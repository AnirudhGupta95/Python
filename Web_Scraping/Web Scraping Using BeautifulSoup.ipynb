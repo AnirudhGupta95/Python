{
 "cells": [
  {
   "cell_type": "code",
   "execution_count": 6,
   "metadata": {},
   "outputs": [],
   "source": [
    "# ! pip install BeautifulSoup4"
   ]
  },
  {
   "cell_type": "code",
   "execution_count": 7,
   "metadata": {},
   "outputs": [],
   "source": [
    "# ! pip install requests"
   ]
  },
  {
   "cell_type": "code",
   "execution_count": 42,
   "metadata": {},
   "outputs": [],
   "source": [
    "import requests\n",
    "from bs4 import BeautifulSoup\n",
    "import pandas as pd"
   ]
  },
  {
   "cell_type": "code",
   "execution_count": 8,
   "metadata": {},
   "outputs": [],
   "source": [
    "# We use the requests.get command to get all the html source code of the website\n",
    "page = requests.get(\"https://forecast.weather.gov/MapClick.php?lat=42.9371&lon=-75.6107#.YNRDcKgzZPY\")"
   ]
  },
  {
   "cell_type": "code",
   "execution_count": 9,
   "metadata": {},
   "outputs": [],
   "source": [
    "# BeutifulSoup then helps us to parse that content and returns us the html code\n",
    "soup = BeautifulSoup(page.content, 'html.parser')"
   ]
  },
  {
   "cell_type": "code",
   "execution_count": 12,
   "metadata": {},
   "outputs": [],
   "source": [
    "# print(soup.prettify) "
   ]
  },
  {
   "cell_type": "code",
   "execution_count": 17,
   "metadata": {},
   "outputs": [],
   "source": [
    "# In order to find all the links on the page\n",
    "# print(soup.find_all('a'))"
   ]
  },
  {
   "cell_type": "code",
   "execution_count": 19,
   "metadata": {},
   "outputs": [],
   "source": [
    "week = soup.find(id = \"seven-day-forecast-body\")\n"
   ]
  },
  {
   "cell_type": "code",
   "execution_count": 21,
   "metadata": {},
   "outputs": [],
   "source": [
    "# print(week)"
   ]
  },
  {
   "cell_type": "code",
   "execution_count": 23,
   "metadata": {},
   "outputs": [],
   "source": [
    "items = week.find_all(class_ = \"tombstone-container\")"
   ]
  },
  {
   "cell_type": "code",
   "execution_count": 31,
   "metadata": {},
   "outputs": [
    {
     "name": "stdout",
     "output_type": "stream",
     "text": [
      "<div class=\"tombstone-container\">\n",
      "<p class=\"period-name\">Today<br/><br/></p>\n",
      "<p><img alt=\"Today: Sunny, with a high near 80. South wind 7 to 13 mph. \" class=\"forecast-icon\" src=\"newimages/medium/few.png\" title=\"Today: Sunny, with a high near 80. South wind 7 to 13 mph. \"/></p><p class=\"short-desc\">Sunny</p><p class=\"temp temp-high\">High: 80 °F</p></div>\n"
     ]
    }
   ],
   "source": [
    "print(items[0])"
   ]
  },
  {
   "cell_type": "code",
   "execution_count": 34,
   "metadata": {},
   "outputs": [
    {
     "name": "stdout",
     "output_type": "stream",
     "text": [
      "Today\n",
      "Sunny\n",
      "High: 80 °F\n"
     ]
    }
   ],
   "source": [
    "print(items[0].find(class_ = \"period-name\").get_text())\n",
    "print(items[0].find(class_ = \"short-desc\").get_text())\n",
    "print(items[0].find(class_ = \"temp\").get_text())"
   ]
  },
  {
   "cell_type": "code",
   "execution_count": 44,
   "metadata": {},
   "outputs": [
    {
     "data": {
      "text/plain": [
       "['Today',\n",
       " 'Tonight',\n",
       " 'Friday',\n",
       " 'FridayNight',\n",
       " 'Saturday',\n",
       " 'SaturdayNight',\n",
       " 'Sunday',\n",
       " 'SundayNight',\n",
       " 'Monday']"
      ]
     },
     "execution_count": 44,
     "metadata": {},
     "output_type": "execute_result"
    }
   ],
   "source": [
    "period_names = [item.find(class_ = \"period-name\").get_text() for item in items]\n",
    "period_names"
   ]
  },
  {
   "cell_type": "code",
   "execution_count": 45,
   "metadata": {},
   "outputs": [
    {
     "name": "stdout",
     "output_type": "stream",
     "text": [
      "['Sunny', 'Mostly Clear', 'Mostly Sunny', 'Mostly Cloudy', 'ChanceShowers thenChanceT-storms', 'ChanceT-storms thenChanceShowers', 'ChanceShowers thenChanceT-storms', 'ChanceT-storms thenChanceShowers', 'ShowersLikely']\n"
     ]
    }
   ],
   "source": [
    "short_descriptions =[item.find(class_ = \"short-desc\").get_text() for item in items]\n",
    "print(short_descriptions)"
   ]
  },
  {
   "cell_type": "code",
   "execution_count": 46,
   "metadata": {},
   "outputs": [
    {
     "name": "stdout",
     "output_type": "stream",
     "text": [
      "['High: 80 °F', 'Low: 53 °F', 'High: 82 °F', 'Low: 61 °F', 'High: 82 °F', 'Low: 68 °F', 'High: 88 °F', 'Low: 69 °F', 'High: 87 °F']\n"
     ]
    }
   ],
   "source": [
    "temperatures = [item.find(class_ = \"temp\").get_text() for item in items]\n",
    "print(temperatures)"
   ]
  },
  {
   "cell_type": "code",
   "execution_count": 47,
   "metadata": {},
   "outputs": [],
   "source": [
    "Weather_Stuff = pd.DataFrame({\n",
    "    \"Period\" : period_names,\n",
    "    \"Short_Descriptions\" : short_descriptions,\n",
    "    \"Temperatures\" : temperatures,\n",
    "})"
   ]
  },
  {
   "cell_type": "code",
   "execution_count": 48,
   "metadata": {},
   "outputs": [
    {
     "data": {
      "text/html": [
       "<div>\n",
       "<style scoped>\n",
       "    .dataframe tbody tr th:only-of-type {\n",
       "        vertical-align: middle;\n",
       "    }\n",
       "\n",
       "    .dataframe tbody tr th {\n",
       "        vertical-align: top;\n",
       "    }\n",
       "\n",
       "    .dataframe thead th {\n",
       "        text-align: right;\n",
       "    }\n",
       "</style>\n",
       "<table border=\"1\" class=\"dataframe\">\n",
       "  <thead>\n",
       "    <tr style=\"text-align: right;\">\n",
       "      <th></th>\n",
       "      <th>Period</th>\n",
       "      <th>Short_Descriptions</th>\n",
       "      <th>Temperatures</th>\n",
       "    </tr>\n",
       "  </thead>\n",
       "  <tbody>\n",
       "    <tr>\n",
       "      <th>0</th>\n",
       "      <td>Today</td>\n",
       "      <td>Sunny</td>\n",
       "      <td>High: 80 °F</td>\n",
       "    </tr>\n",
       "    <tr>\n",
       "      <th>1</th>\n",
       "      <td>Tonight</td>\n",
       "      <td>Mostly Clear</td>\n",
       "      <td>Low: 53 °F</td>\n",
       "    </tr>\n",
       "    <tr>\n",
       "      <th>2</th>\n",
       "      <td>Friday</td>\n",
       "      <td>Mostly Sunny</td>\n",
       "      <td>High: 82 °F</td>\n",
       "    </tr>\n",
       "    <tr>\n",
       "      <th>3</th>\n",
       "      <td>FridayNight</td>\n",
       "      <td>Mostly Cloudy</td>\n",
       "      <td>Low: 61 °F</td>\n",
       "    </tr>\n",
       "    <tr>\n",
       "      <th>4</th>\n",
       "      <td>Saturday</td>\n",
       "      <td>ChanceShowers thenChanceT-storms</td>\n",
       "      <td>High: 82 °F</td>\n",
       "    </tr>\n",
       "    <tr>\n",
       "      <th>5</th>\n",
       "      <td>SaturdayNight</td>\n",
       "      <td>ChanceT-storms thenChanceShowers</td>\n",
       "      <td>Low: 68 °F</td>\n",
       "    </tr>\n",
       "    <tr>\n",
       "      <th>6</th>\n",
       "      <td>Sunday</td>\n",
       "      <td>ChanceShowers thenChanceT-storms</td>\n",
       "      <td>High: 88 °F</td>\n",
       "    </tr>\n",
       "    <tr>\n",
       "      <th>7</th>\n",
       "      <td>SundayNight</td>\n",
       "      <td>ChanceT-storms thenChanceShowers</td>\n",
       "      <td>Low: 69 °F</td>\n",
       "    </tr>\n",
       "    <tr>\n",
       "      <th>8</th>\n",
       "      <td>Monday</td>\n",
       "      <td>ShowersLikely</td>\n",
       "      <td>High: 87 °F</td>\n",
       "    </tr>\n",
       "  </tbody>\n",
       "</table>\n",
       "</div>"
      ],
      "text/plain": [
       "          Period                Short_Descriptions Temperatures\n",
       "0          Today                             Sunny  High: 80 °F\n",
       "1        Tonight                      Mostly Clear   Low: 53 °F\n",
       "2         Friday                      Mostly Sunny  High: 82 °F\n",
       "3    FridayNight                     Mostly Cloudy   Low: 61 °F\n",
       "4       Saturday  ChanceShowers thenChanceT-storms  High: 82 °F\n",
       "5  SaturdayNight  ChanceT-storms thenChanceShowers   Low: 68 °F\n",
       "6         Sunday  ChanceShowers thenChanceT-storms  High: 88 °F\n",
       "7    SundayNight  ChanceT-storms thenChanceShowers   Low: 69 °F\n",
       "8         Monday                     ShowersLikely  High: 87 °F"
      ]
     },
     "execution_count": 48,
     "metadata": {},
     "output_type": "execute_result"
    }
   ],
   "source": [
    "Weather_Stuff"
   ]
  },
  {
   "cell_type": "code",
   "execution_count": 50,
   "metadata": {},
   "outputs": [],
   "source": [
    "Weather_Stuff.to_csv(\"Weather_Stuff.csv\")"
   ]
  }
 ],
 "metadata": {
  "kernelspec": {
   "display_name": "Python 3",
   "language": "python",
   "name": "python3"
  },
  "language_info": {
   "codemirror_mode": {
    "name": "ipython",
    "version": 3
   },
   "file_extension": ".py",
   "mimetype": "text/x-python",
   "name": "python",
   "nbconvert_exporter": "python",
   "pygments_lexer": "ipython3",
   "version": "3.8.5"
  }
 },
 "nbformat": 4,
 "nbformat_minor": 4
}
