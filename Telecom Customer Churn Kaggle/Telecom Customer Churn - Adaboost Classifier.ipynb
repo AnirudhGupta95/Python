{
 "cells": [
  {
   "cell_type": "code",
   "execution_count": 1,
   "metadata": {},
   "outputs": [],
   "source": [
    "import numpy as np\n",
    "import pandas as pd\n",
    "import matplotlib.pyplot as plt\n",
    "import seaborn as sns\n",
    "%matplotlib inline"
   ]
  },
  {
   "cell_type": "code",
   "execution_count": 2,
   "metadata": {},
   "outputs": [],
   "source": [
    "pd.set_option('display.max_columns', None)\n"
   ]
  },
  {
   "cell_type": "code",
   "execution_count": 3,
   "metadata": {},
   "outputs": [],
   "source": [
    "# Loading the post EDA dataframe\n",
    "df = pd.read_excel(\"df1.xlsx\")"
   ]
  },
  {
   "cell_type": "code",
   "execution_count": 4,
   "metadata": {},
   "outputs": [],
   "source": [
    "# Defining our x and y variables\n",
    "x = df.drop(columns = [\n",
    "                    \"Churn_Yes\",\n",
    "                    \"Unnamed: 0\",\n",
    "                   'OnlineSecurity_No internet service',\n",
    "                   'OnlineBackup_No internet service',\n",
    "                    'DeviceProtection_No internet service',\n",
    "                   'TechSupport_No internet service',\n",
    "                   'StreamingTV_No internet service',\n",
    "                   'StreamingMovies_No internet service',\n",
    "                   'MonthlyCharges',\n",
    "                   'PhoneService_Yes',\n",
    "                    'TotalCharges'\n",
    "                   \n",
    "                    \n",
    "                   \n",
    "                    \n",
    "])"
   ]
  },
  {
   "cell_type": "code",
   "execution_count": 5,
   "metadata": {},
   "outputs": [],
   "source": [
    "y = df[\"Churn_Yes\"]"
   ]
  },
  {
   "cell_type": "code",
   "execution_count": 6,
   "metadata": {},
   "outputs": [],
   "source": [
    "from sklearn.model_selection import train_test_split\n",
    "xtrain,xtest,ytrain,ytest = train_test_split(x,y, test_size = 0.25, random_state= 25)"
   ]
  },
  {
   "cell_type": "code",
   "execution_count": 7,
   "metadata": {},
   "outputs": [
    {
     "data": {
      "text/html": [
       "<div>\n",
       "<style scoped>\n",
       "    .dataframe tbody tr th:only-of-type {\n",
       "        vertical-align: middle;\n",
       "    }\n",
       "\n",
       "    .dataframe tbody tr th {\n",
       "        vertical-align: top;\n",
       "    }\n",
       "\n",
       "    .dataframe thead th {\n",
       "        text-align: right;\n",
       "    }\n",
       "</style>\n",
       "<table border=\"1\" class=\"dataframe\">\n",
       "  <thead>\n",
       "    <tr style=\"text-align: right;\">\n",
       "      <th></th>\n",
       "      <th>vif_value</th>\n",
       "      <th>features</th>\n",
       "    </tr>\n",
       "  </thead>\n",
       "  <tbody>\n",
       "    <tr>\n",
       "      <th>20</th>\n",
       "      <td>7.445971</td>\n",
       "      <td>tenure</td>\n",
       "    </tr>\n",
       "    <tr>\n",
       "      <th>15</th>\n",
       "      <td>3.474922</td>\n",
       "      <td>Contract_Two year</td>\n",
       "    </tr>\n",
       "    <tr>\n",
       "      <th>6</th>\n",
       "      <td>3.151418</td>\n",
       "      <td>InternetService_Fiber optic</td>\n",
       "    </tr>\n",
       "    <tr>\n",
       "      <th>2</th>\n",
       "      <td>2.802996</td>\n",
       "      <td>Partner_Yes</td>\n",
       "    </tr>\n",
       "    <tr>\n",
       "      <th>12</th>\n",
       "      <td>2.663669</td>\n",
       "      <td>StreamingTV_Yes</td>\n",
       "    </tr>\n",
       "    <tr>\n",
       "      <th>7</th>\n",
       "      <td>2.653322</td>\n",
       "      <td>InternetService_No</td>\n",
       "    </tr>\n",
       "    <tr>\n",
       "      <th>16</th>\n",
       "      <td>2.651097</td>\n",
       "      <td>PaperlessBilling_Yes</td>\n",
       "    </tr>\n",
       "    <tr>\n",
       "      <th>13</th>\n",
       "      <td>2.645075</td>\n",
       "      <td>StreamingMovies_Yes</td>\n",
       "    </tr>\n",
       "    <tr>\n",
       "      <th>5</th>\n",
       "      <td>2.467035</td>\n",
       "      <td>MultipleLines_Yes</td>\n",
       "    </tr>\n",
       "    <tr>\n",
       "      <th>18</th>\n",
       "      <td>2.315973</td>\n",
       "      <td>PaymentMethod_Electronic check</td>\n",
       "    </tr>\n",
       "    <tr>\n",
       "      <th>10</th>\n",
       "      <td>2.242557</td>\n",
       "      <td>DeviceProtection_Yes</td>\n",
       "    </tr>\n",
       "    <tr>\n",
       "      <th>9</th>\n",
       "      <td>2.094563</td>\n",
       "      <td>OnlineBackup_Yes</td>\n",
       "    </tr>\n",
       "    <tr>\n",
       "      <th>14</th>\n",
       "      <td>2.090229</td>\n",
       "      <td>Contract_One year</td>\n",
       "    </tr>\n",
       "    <tr>\n",
       "      <th>11</th>\n",
       "      <td>2.006274</td>\n",
       "      <td>TechSupport_Yes</td>\n",
       "    </tr>\n",
       "    <tr>\n",
       "      <th>3</th>\n",
       "      <td>1.995764</td>\n",
       "      <td>Dependents_Yes</td>\n",
       "    </tr>\n",
       "    <tr>\n",
       "      <th>8</th>\n",
       "      <td>1.911391</td>\n",
       "      <td>OnlineSecurity_Yes</td>\n",
       "    </tr>\n",
       "    <tr>\n",
       "      <th>0</th>\n",
       "      <td>1.899257</td>\n",
       "      <td>gender_Male</td>\n",
       "    </tr>\n",
       "    <tr>\n",
       "      <th>19</th>\n",
       "      <td>1.826703</td>\n",
       "      <td>PaymentMethod_Mailed check</td>\n",
       "    </tr>\n",
       "    <tr>\n",
       "      <th>17</th>\n",
       "      <td>1.724201</td>\n",
       "      <td>PaymentMethod_Credit card (automatic)</td>\n",
       "    </tr>\n",
       "    <tr>\n",
       "      <th>1</th>\n",
       "      <td>1.375149</td>\n",
       "      <td>SeniorCitizen_Yes</td>\n",
       "    </tr>\n",
       "    <tr>\n",
       "      <th>4</th>\n",
       "      <td>1.374562</td>\n",
       "      <td>MultipleLines_No phone service</td>\n",
       "    </tr>\n",
       "  </tbody>\n",
       "</table>\n",
       "</div>"
      ],
      "text/plain": [
       "    vif_value                               features\n",
       "20   7.445971                                 tenure\n",
       "15   3.474922                      Contract_Two year\n",
       "6    3.151418            InternetService_Fiber optic\n",
       "2    2.802996                            Partner_Yes\n",
       "12   2.663669                        StreamingTV_Yes\n",
       "7    2.653322                     InternetService_No\n",
       "16   2.651097                   PaperlessBilling_Yes\n",
       "13   2.645075                    StreamingMovies_Yes\n",
       "5    2.467035                      MultipleLines_Yes\n",
       "18   2.315973         PaymentMethod_Electronic check\n",
       "10   2.242557                   DeviceProtection_Yes\n",
       "9    2.094563                       OnlineBackup_Yes\n",
       "14   2.090229                      Contract_One year\n",
       "11   2.006274                        TechSupport_Yes\n",
       "3    1.995764                         Dependents_Yes\n",
       "8    1.911391                     OnlineSecurity_Yes\n",
       "0    1.899257                            gender_Male\n",
       "19   1.826703             PaymentMethod_Mailed check\n",
       "17   1.724201  PaymentMethod_Credit card (automatic)\n",
       "1    1.375149                      SeniorCitizen_Yes\n",
       "4    1.374562         MultipleLines_No phone service"
      ]
     },
     "execution_count": 7,
     "metadata": {},
     "output_type": "execute_result"
    }
   ],
   "source": [
    "from statsmodels.stats.outliers_influence import variance_inflation_factor\n",
    "# For each X, calculate VIF and save in dataframe\n",
    "vif = pd.DataFrame()\n",
    "vif['vif_value'] = [variance_inflation_factor(xtrain.values, i) for i in range(xtrain.shape[1])]\n",
    "vif[\"features\"] = xtrain.columns\n",
    "vif.sort_values('vif_value', ascending=False)"
   ]
  },
  {
   "cell_type": "code",
   "execution_count": null,
   "metadata": {},
   "outputs": [],
   "source": []
  },
  {
   "cell_type": "code",
   "execution_count": null,
   "metadata": {},
   "outputs": [],
   "source": []
  },
  {
   "cell_type": "code",
   "execution_count": 8,
   "metadata": {},
   "outputs": [],
   "source": [
    "from sklearn.ensemble import AdaBoostClassifier"
   ]
  },
  {
   "cell_type": "code",
   "execution_count": 9,
   "metadata": {},
   "outputs": [],
   "source": [
    "adbc = AdaBoostClassifier()"
   ]
  },
  {
   "cell_type": "code",
   "execution_count": 10,
   "metadata": {},
   "outputs": [],
   "source": [
    "?AdaBoostClassifier"
   ]
  },
  {
   "cell_type": "code",
   "execution_count": 11,
   "metadata": {},
   "outputs": [],
   "source": [
    "from sklearn.model_selection import GridSearchCV, RandomizedSearchCV"
   ]
  },
  {
   "cell_type": "code",
   "execution_count": 12,
   "metadata": {},
   "outputs": [
    {
     "name": "stdout",
     "output_type": "stream",
     "text": [
      "Fitting 10 folds for each of 11 candidates, totalling 110 fits\n"
     ]
    },
    {
     "name": "stderr",
     "output_type": "stream",
     "text": [
      "[Parallel(n_jobs=-1)]: Using backend LokyBackend with 8 concurrent workers.\n",
      "[Parallel(n_jobs=-1)]: Done  34 tasks      | elapsed:  1.2min\n",
      "[Parallel(n_jobs=-1)]: Done 110 out of 110 | elapsed:  1.6min finished\n"
     ]
    },
    {
     "data": {
      "text/plain": [
       "GridSearchCV(cv=10, estimator=AdaBoostClassifier(), n_jobs=-1,\n",
       "             param_grid={'n_estimators': array([  0,  50, 100, 150, 200, 250, 300, 350, 400, 450, 500])},\n",
       "             verbose=True)"
      ]
     },
     "execution_count": 12,
     "metadata": {},
     "output_type": "execute_result"
    }
   ],
   "source": [
    "params = {\n",
    "    \"n_estimators\" : np.arange(0,501,50)\n",
    "    \n",
    "}\n",
    "adbc_gs = GridSearchCV(adbc, param_grid=params, cv=10, verbose=True, n_jobs=-1)\n",
    "adbc_gs.fit(xtrain,ytrain)"
   ]
  },
  {
   "cell_type": "code",
   "execution_count": 13,
   "metadata": {},
   "outputs": [
    {
     "data": {
      "text/plain": [
       "{'n_estimators': 100}"
      ]
     },
     "execution_count": 13,
     "metadata": {},
     "output_type": "execute_result"
    }
   ],
   "source": [
    "adbc_gs.best_params_"
   ]
  },
  {
   "cell_type": "code",
   "execution_count": 14,
   "metadata": {},
   "outputs": [],
   "source": [
    "adbc1 = AdaBoostClassifier(n_estimators=100)"
   ]
  },
  {
   "cell_type": "code",
   "execution_count": 15,
   "metadata": {},
   "outputs": [
    {
     "data": {
      "text/plain": [
       "AdaBoostClassifier(n_estimators=100)"
      ]
     },
     "execution_count": 15,
     "metadata": {},
     "output_type": "execute_result"
    }
   ],
   "source": [
    "adbc1.fit(xtrain,ytrain)"
   ]
  },
  {
   "cell_type": "code",
   "execution_count": 16,
   "metadata": {},
   "outputs": [
    {
     "data": {
      "text/plain": [
       "0.8096939915121734"
      ]
     },
     "execution_count": 16,
     "metadata": {},
     "output_type": "execute_result"
    }
   ],
   "source": [
    "adbc1.score(xtrain,ytrain)"
   ]
  },
  {
   "cell_type": "code",
   "execution_count": 17,
   "metadata": {},
   "outputs": [
    {
     "data": {
      "text/plain": [
       "0.7923643670462157"
      ]
     },
     "execution_count": 17,
     "metadata": {},
     "output_type": "execute_result"
    }
   ],
   "source": [
    "adbc1.score(xtest,ytest)"
   ]
  },
  {
   "cell_type": "code",
   "execution_count": null,
   "metadata": {},
   "outputs": [],
   "source": []
  },
  {
   "cell_type": "code",
   "execution_count": 18,
   "metadata": {},
   "outputs": [],
   "source": [
    "y_train_pred = adbc1.predict(xtrain)"
   ]
  },
  {
   "cell_type": "code",
   "execution_count": 19,
   "metadata": {},
   "outputs": [],
   "source": [
    "y_test_pred = adbc1.predict(xtest)"
   ]
  },
  {
   "cell_type": "code",
   "execution_count": null,
   "metadata": {},
   "outputs": [],
   "source": []
  },
  {
   "cell_type": "code",
   "execution_count": 20,
   "metadata": {},
   "outputs": [],
   "source": [
    "from sklearn import metrics"
   ]
  },
  {
   "cell_type": "code",
   "execution_count": 21,
   "metadata": {},
   "outputs": [
    {
     "name": "stdout",
     "output_type": "stream",
     "text": [
      "              precision    recall  f1-score   support\n",
      "\n",
      "           0       0.85      0.90      0.88      3298\n",
      "           1       0.67      0.54      0.60      1179\n",
      "\n",
      "    accuracy                           0.81      4477\n",
      "   macro avg       0.76      0.72      0.74      4477\n",
      "weighted avg       0.80      0.81      0.80      4477\n",
      "\n"
     ]
    }
   ],
   "source": [
    "print(metrics.classification_report(ytrain, y_train_pred))"
   ]
  },
  {
   "cell_type": "code",
   "execution_count": 22,
   "metadata": {},
   "outputs": [
    {
     "name": "stdout",
     "output_type": "stream",
     "text": [
      "              precision    recall  f1-score   support\n",
      "\n",
      "           0       0.83      0.91      0.86      1095\n",
      "           1       0.65      0.48      0.55       398\n",
      "\n",
      "    accuracy                           0.79      1493\n",
      "   macro avg       0.74      0.69      0.71      1493\n",
      "weighted avg       0.78      0.79      0.78      1493\n",
      "\n"
     ]
    }
   ],
   "source": [
    "print(metrics.classification_report(ytest, y_test_pred))"
   ]
  },
  {
   "cell_type": "code",
   "execution_count": null,
   "metadata": {},
   "outputs": [],
   "source": []
  },
  {
   "cell_type": "code",
   "execution_count": null,
   "metadata": {},
   "outputs": [],
   "source": []
  },
  {
   "cell_type": "markdown",
   "metadata": {},
   "source": [
    "# Now we will predict the probability and set the cut off"
   ]
  },
  {
   "cell_type": "code",
   "execution_count": 23,
   "metadata": {},
   "outputs": [],
   "source": [
    "from sklearn.metrics import roc_curve, roc_auc_score"
   ]
  },
  {
   "cell_type": "code",
   "execution_count": 24,
   "metadata": {},
   "outputs": [
    {
     "data": {
      "image/png": "[encoded data removed]",
      "text/plain": [
       "<Figure size 432x288 with 1 Axes>"
      ]
     },
     "metadata": {
      "needs_background": "light"
     },
     "output_type": "display_data"
    }
   ],
   "source": [
    "probs = adbc1.predict_proba(xtrain)[:,1]\n",
    "probt = adbc1.predict_proba(xtest)[:,1]\n",
    "fpr, tpr, thresholds = roc_curve(ytrain, probs)\n",
    "fprt, tprt, thresholdst = roc_curve(ytest,probt)\n",
    "plt.plot([0,1], [0,1], linestyle = \"--\")\n",
    "plt.plot(fpr,tpr,label = \"Train\")\n",
    "plt.plot(fprt,tprt, label = \"Test\")\n",
    "plt.title(\"ROC CURVE\")\n",
    "plt.legend()\n",
    "plt.show()"
   ]
  },
  {
   "cell_type": "code",
   "execution_count": null,
   "metadata": {},
   "outputs": [],
   "source": []
  },
  {
   "cell_type": "code",
   "execution_count": 25,
   "metadata": {},
   "outputs": [
    {
     "name": "stdout",
     "output_type": "stream",
     "text": [
      "AUC Score For Train Data 0.8572136915940007 \n",
      " AUC Score For Test Data 0.83568412840458\n"
     ]
    }
   ],
   "source": [
    "# Now we will find the AUC score\n",
    "AUCs = roc_auc_score(ytrain,probs)\n",
    "AUCt = roc_auc_score(ytest, probt)\n",
    "\n",
    "print(\"AUC Score For Train Data {} \\n AUC Score For Test Data {}\".format(AUCs, AUCt))"
   ]
  },
  {
   "cell_type": "code",
   "execution_count": null,
   "metadata": {},
   "outputs": [],
   "source": []
  },
  {
   "cell_type": "code",
   "execution_count": 26,
   "metadata": {},
   "outputs": [
    {
     "name": "stdout",
     "output_type": "stream",
     "text": [
      "Optimum Threshold Train Data : 0.4965576184084654 \n",
      " Optimum Threshold Test Data : 0.49851481241668794\n"
     ]
    }
   ],
   "source": [
    "# Now we will find the optimum threshold of probability\n",
    "optimum_thres_train = thresholds[np.argmax(tpr-fpr)]\n",
    "optimum_thres_test  = thresholdst[np.argmax(tprt-fprt)]\n",
    "\n",
    "print(\"Optimum Threshold Train Data : {} \\n Optimum Threshold Test Data : {}\".format(optimum_thres_train, optimum_thres_test))"
   ]
  },
  {
   "cell_type": "code",
   "execution_count": null,
   "metadata": {},
   "outputs": [],
   "source": []
  },
  {
   "cell_type": "code",
   "execution_count": 27,
   "metadata": {},
   "outputs": [],
   "source": [
    "# Now we will set the cut off\n",
    "y_train_pred2 = np.where(probs <= 0.4965576184084654 , 0, 1)\n",
    "y_test_pred2 = np.where(probt <= 0.4965576184084654 , 0, 1)"
   ]
  },
  {
   "cell_type": "code",
   "execution_count": null,
   "metadata": {},
   "outputs": [],
   "source": []
  },
  {
   "cell_type": "code",
   "execution_count": 28,
   "metadata": {},
   "outputs": [
    {
     "name": "stdout",
     "output_type": "stream",
     "text": [
      "              precision    recall  f1-score   support\n",
      "\n",
      "           0       0.94      0.67      0.78      3298\n",
      "           1       0.49      0.89      0.63      1179\n",
      "\n",
      "    accuracy                           0.73      4477\n",
      "   macro avg       0.72      0.78      0.71      4477\n",
      "weighted avg       0.82      0.73      0.74      4477\n",
      "\n"
     ]
    }
   ],
   "source": [
    "print(metrics.classification_report(ytrain, y_train_pred2))"
   ]
  },
  {
   "cell_type": "code",
   "execution_count": 29,
   "metadata": {
    "scrolled": true
   },
   "outputs": [
    {
     "name": "stdout",
     "output_type": "stream",
     "text": [
      "              precision    recall  f1-score   support\n",
      "\n",
      "           0       0.91      0.66      0.77      1095\n",
      "           1       0.47      0.83      0.60       398\n",
      "\n",
      "    accuracy                           0.71      1493\n",
      "   macro avg       0.69      0.75      0.69      1493\n",
      "weighted avg       0.80      0.71      0.72      1493\n",
      "\n"
     ]
    }
   ],
   "source": [
    "print(metrics.classification_report(ytest, y_test_pred2))"
   ]
  },
  {
   "cell_type": "code",
   "execution_count": null,
   "metadata": {},
   "outputs": [],
   "source": []
  },
  {
   "cell_type": "code",
   "execution_count": null,
   "metadata": {},
   "outputs": [],
   "source": []
  },
  {
   "cell_type": "markdown",
   "metadata": {},
   "source": [
    "# FINAL RESULTS FOR THE TEST DATA\n",
    "1. AUC Score = 0.8357\n",
    "2. Accuracy  = 0.71\n",
    "3. Precision = 0.47\n",
    "4. Recall    = 0.83"
   ]
  },
  {
   "cell_type": "code",
   "execution_count": null,
   "metadata": {},
   "outputs": [],
   "source": []
  },
  {
   "cell_type": "code",
   "execution_count": null,
   "metadata": {},
   "outputs": [],
   "source": []
  },
  {
   "cell_type": "code",
   "execution_count": null,
   "metadata": {},
   "outputs": [],
   "source": []
  }
 ],
 "metadata": {
  "kernelspec": {
   "display_name": "Python 3",
   "language": "python",
   "name": "python3"
  },
  "language_info": {
   "codemirror_mode": {
    "name": "ipython",
    "version": 3
   },
   "file_extension": ".py",
   "mimetype": "text/x-python",
   "name": "python",
   "nbconvert_exporter": "python",
   "pygments_lexer": "ipython3",
   "version": "3.8.5"
  }
 },
 "nbformat": 4,
 "nbformat_minor": 4
}
